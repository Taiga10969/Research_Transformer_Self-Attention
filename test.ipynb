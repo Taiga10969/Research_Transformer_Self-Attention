{
 "cells": [
  {
   "cell_type": "code",
   "execution_count": 1,
   "metadata": {},
   "outputs": [],
   "source": [
    "import torch\n",
    "from transformers import BertTokenizer\n",
    "\n",
    "from models.modeling_bert import BertModel"
   ]
  },
  {
   "cell_type": "code",
   "execution_count": 2,
   "metadata": {},
   "outputs": [],
   "source": [
    "SEED = 1111\n",
    "torch.manual_seed(SEED)\n",
    "torch.backends.cudnn.deterministic = True"
   ]
  },
  {
   "cell_type": "code",
   "execution_count": 3,
   "metadata": {},
   "outputs": [],
   "source": [
    "# BERTのトークナイザーとモデルをロード\n",
    "tokenizer = BertTokenizer.from_pretrained('bert-base-uncased')\n",
    "model = BertModel.from_pretrained('bert-base-uncased')"
   ]
  },
  {
   "cell_type": "code",
   "execution_count": 4,
   "metadata": {},
   "outputs": [
    {
     "name": "stdout",
     "output_type": "stream",
     "text": [
      "[CLS] [SEP] [PAD] [UNK]\n",
      "101 102 0 100\n"
     ]
    }
   ],
   "source": [
    "# BERT固有の特殊トークン達\n",
    "cls_token = tokenizer.cls_token\n",
    "sep_token = tokenizer.sep_token\n",
    "pad_token = tokenizer.pad_token\n",
    "unk_token = tokenizer.unk_token\n",
    "print(cls_token, sep_token, pad_token, unk_token)\n",
    "\n",
    "# idによるトークン表記\n",
    "cls_token_idx = tokenizer.cls_token_id\n",
    "sep_token_idx = tokenizer.sep_token_id\n",
    "pad_token_idx = tokenizer.pad_token_id\n",
    "unk_token_idx = tokenizer.unk_token_id\n",
    "print(cls_token_idx, sep_token_idx, pad_token_idx, unk_token_idx)"
   ]
  },
  {
   "cell_type": "code",
   "execution_count": 5,
   "metadata": {},
   "outputs": [
    {
     "name": "stdout",
     "output_type": "stream",
     "text": [
      "input_ids :  tensor([[ 101, 1045, 2293, 3019, 2653, 6364, 1012,  102]])\n",
      "input_tokens :  ['[CLS]', 'i', 'love', 'natural', 'language', 'processing', '.', '[SEP]']\n",
      "入力テキスト: I love natural language processing.\n",
      "トークン化された入力: tensor([[ 101, 1045, 2293, 3019, 2653, 6364, 1012,  102]])\n",
      "隠れ状態の形状: torch.Size([1, 8, 768])\n",
      "出力の形状: torch.Size([1, 768])\n"
     ]
    }
   ],
   "source": [
    "\n",
    "# サンプルのテキスト\n",
    "text = \"I love natural language processing.\"\n",
    "\n",
    "# テキストをトークン化してエンコード\n",
    "input_ids = tokenizer.encode(text, return_tensors='pt')\n",
    "\n",
    "print(\"input_ids : \", input_ids)\n",
    "tokens = tokenizer.convert_ids_to_tokens(input_ids[0])\n",
    "print(\"input_tokens : \", tokens)\n",
    "\n",
    "# BERTモデルに入力し、隠れ状態と出力を取得\n",
    "with torch.no_grad():\n",
    "    outputs = model(input_ids)\n",
    "\n",
    "# 隠れ状態を取得\n",
    "hidden_states = outputs.last_hidden_state\n",
    "\n",
    "# エンコードされたテキストの出力を取得\n",
    "pooled_output = outputs.pooler_output\n",
    "\n",
    "print(\"入力テキスト:\", text)\n",
    "print(\"トークン化された入力:\", input_ids)\n",
    "print(\"隠れ状態の形状:\", hidden_states.shape)\n",
    "print(\"出力の形状:\", pooled_output.shape)"
   ]
  },
  {
   "cell_type": "code",
   "execution_count": 6,
   "metadata": {},
   "outputs": [],
   "source": [
    "import torch\n",
    "from models.modeling_bert import BertModel"
   ]
  },
  {
   "cell_type": "code",
   "execution_count": 11,
   "metadata": {},
   "outputs": [
    {
     "ename": "ImportError",
     "evalue": "cannot import name 'dataset' from 'torchtext' (/usr/local/lib/python3.10/dist-packages/torchtext/__init__.py)",
     "output_type": "error",
     "traceback": [
      "\u001b[0;31m---------------------------------------------------------------------------\u001b[0m",
      "\u001b[0;31mImportError\u001b[0m                               Traceback (most recent call last)",
      "Cell \u001b[0;32mIn[11], line 4\u001b[0m\n\u001b[1;32m      1\u001b[0m \u001b[38;5;66;03m# 学習データのデータ構造定義\u001b[39;00m\n\u001b[1;32m      2\u001b[0m \n\u001b[1;32m      3\u001b[0m \u001b[38;5;66;03m# torchtextのバージョンアップに伴い、legacyを付ける必要あり\u001b[39;00m\n\u001b[0;32m----> 4\u001b[0m \u001b[38;5;28;01mfrom\u001b[39;00m \u001b[38;5;21;01mtorchtext\u001b[39;00m \u001b[38;5;28;01mimport\u001b[39;00m dataset \u001b[38;5;28;01mas\u001b[39;00m data\n\u001b[1;32m      6\u001b[0m \u001b[38;5;66;03m# 入力データ\u001b[39;00m\n\u001b[1;32m      7\u001b[0m TEXT \u001b[38;5;241m=\u001b[39m data\u001b[38;5;241m.\u001b[39mField(batch_first \u001b[38;5;241m=\u001b[39m \u001b[38;5;28;01mTrue\u001b[39;00m,\n\u001b[1;32m      8\u001b[0m                   use_vocab \u001b[38;5;241m=\u001b[39m \u001b[38;5;28;01mFalse\u001b[39;00m,\n\u001b[1;32m      9\u001b[0m                   \u001b[38;5;66;03m# 上で定義したトークン化関数\u001b[39;00m\n\u001b[0;32m   (...)\u001b[0m\n\u001b[1;32m     14\u001b[0m                   eos_token \u001b[38;5;241m=\u001b[39m sep_token_idx,\n\u001b[1;32m     15\u001b[0m                   pad_token \u001b[38;5;241m=\u001b[39m pad_token_idx)\n",
      "\u001b[0;31mImportError\u001b[0m: cannot import name 'dataset' from 'torchtext' (/usr/local/lib/python3.10/dist-packages/torchtext/__init__.py)"
     ]
    }
   ],
   "source": [
    "# 学習データのデータ構造定義\n",
    "\n",
    "# torchtextのバージョンアップに伴い、legacyを付ける必要あり\n",
    "from torchtext import dataset as data\n",
    "\n",
    "# 入力データ\n",
    "TEXT = data.Field(batch_first = True,\n",
    "                  use_vocab = False,\n",
    "                  # 上で定義したトークン化関数\n",
    "                  tokenize = tokenize,\n",
    "                  # 前処理として各トークンをIDに変換\n",
    "                  preprocessing = tokenizer.convert_tokens_to_ids,\n",
    "                  init_token = cls_token_idx,\n",
    "                  eos_token = sep_token_idx,\n",
    "                  pad_token = pad_token_idx)\n",
    " \n",
    "# 正解ラベル\n",
    "LABEL = data.LabelField()"
   ]
  },
  {
   "cell_type": "code",
   "execution_count": null,
   "metadata": {},
   "outputs": [],
   "source": []
  },
  {
   "cell_type": "code",
   "execution_count": null,
   "metadata": {},
   "outputs": [],
   "source": []
  }
 ],
 "metadata": {
  "kernelspec": {
   "display_name": "Python 3",
   "language": "python",
   "name": "python3"
  },
  "language_info": {
   "codemirror_mode": {
    "name": "ipython",
    "version": 3
   },
   "file_extension": ".py",
   "mimetype": "text/x-python",
   "name": "python",
   "nbconvert_exporter": "python",
   "pygments_lexer": "ipython3",
   "version": "3.10.6"
  }
 },
 "nbformat": 4,
 "nbformat_minor": 2
}
